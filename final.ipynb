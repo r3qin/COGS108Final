{
 "cells": [
  {
   "cell_type": "code",
   "execution_count": 286,
   "metadata": {},
   "outputs": [],
   "source": [
    "#import packages\n",
    "import pandas as pd\n",
    "import numpy as np\n",
    "import matplotlib.pyplot as plt\n",
    "from scipy import stats"
   ]
  },
  {
   "cell_type": "code",
   "execution_count": 150,
   "metadata": {},
   "outputs": [],
   "source": [
    "#read data\n",
    "df = pd.read_csv(\"Crime_Data_from_2010_to_Present.csv\")"
   ]
  },
  {
   "cell_type": "markdown",
   "metadata": {},
   "source": [
    "**Redesign the data frame**"
   ]
  },
  {
   "cell_type": "code",
   "execution_count": 151,
   "metadata": {},
   "outputs": [],
   "source": [
    "df[\"time\"] = df[\"Date Occurred\"].str.split('/')\n",
    "df[\"Year\"] = pd.to_numeric(df[\"time\"].str[2])\n",
    "df[\"Month\"] = pd.to_numeric(df[\"time\"].str[0])\n",
    "df[\"Day\"] = pd.to_numeric(df[\"time\"].str[1])\n",
    "df.drop(columns=[\"time\"], inplace = True)\n",
    "df[\"date\"] = df[[\"Month\", \"Day\", \"Year\"]].values.tolist()"
   ]
  },
  {
   "cell_type": "code",
   "execution_count": 176,
   "metadata": {},
   "outputs": [],
   "source": [
    "df[\"Num\"] = np.ones(df.shape[0])"
   ]
  },
  {
   "cell_type": "code",
   "execution_count": 152,
   "metadata": {},
   "outputs": [],
   "source": [
    "#Cut the data frame\n",
    "df = df.loc[(df[\"Year\"] >= 2015) & (df[\"Year\"] < 2019),:]"
   ]
  },
  {
   "cell_type": "markdown",
   "metadata": {},
   "source": [
    "**Holidays related**"
   ]
  },
  {
   "cell_type": "code",
   "execution_count": 160,
   "metadata": {},
   "outputs": [],
   "source": [
    "Holi_2015 = [\"01/01/2015\", \"01/19/2015\", \"02/16/2015\", \"03/25/2015\", \"07/04/2015\", \"09/07/2015\", \"10/12/2015\", \n",
    "        \"11/11/2015\", \"11/26/2015\", \"12/25/2015\"]\n",
    "Holi_2016 = [\"01/01/2016\", \"01/18/2016\", \"02/15/2016\", \"03/30/2016\", \"07/04/2016\", \"09/05/2016\", \"10/10/2016\", \n",
    "        \"11/11/2016\", \"11/24/2016\", \"12/25/2016\"]\n",
    "Holi_2017 = [\"01/01/2017\", \"01/16/2017\", \"02/20/2017\", \"03/29/2017\", \"07/04/2017\", \"09/04/2017\", \"10/09/2017\", \n",
    "        \"11/11/2017\", \"11/23/2017\", \"12/25/2017\"]\n",
    "Holi_2018 = [\"01/01/2018\", \"01/15/2018\", \"02/19/2018\", \"03/28/2018\", \"07/04/2018\", \"09/03/2018\", \"10/08/2018\", \n",
    "        \"11/11/2018\", \"11/22/2018\", \"12/25/2018\"]\n",
    "holidays = Holi_2015 + Holi_2016 + Holi_2017 + Holi_2018"
   ]
  },
  {
   "cell_type": "code",
   "execution_count": 163,
   "metadata": {},
   "outputs": [],
   "source": [
    "df[\"is_holiday\"] = df[\"Date Occurred\"].isin(holidays)"
   ]
  },
  {
   "cell_type": "markdown",
   "metadata": {},
   "source": [
    "**Number of crimes on holidays**"
   ]
  },
  {
   "cell_type": "code",
   "execution_count": 291,
   "metadata": {},
   "outputs": [],
   "source": [
    "num_crime_holiday = df.groupby([\"Month\"]).sum().is_holiday"
   ]
  },
  {
   "cell_type": "code",
   "execution_count": 209,
   "metadata": {},
   "outputs": [],
   "source": [
    "num_holidays = [2, 1, 1, 0, 0, 0, 1, 0, 1, 1, 2, 1]"
   ]
  },
  {
   "cell_type": "code",
   "execution_count": 210,
   "metadata": {},
   "outputs": [],
   "source": [
    "for i in range(1,13):\n",
    "    if num_holidays[i-1] != 0:\n",
    "        num_crime_holiday[i] = num_crime_holiday[i]/num_holidays[i-1]"
   ]
  },
  {
   "cell_type": "code",
   "execution_count": 217,
   "metadata": {},
   "outputs": [
    {
     "data": {
      "text/plain": [
       "<matplotlib.axes._subplots.AxesSubplot at 0x322a3eef0>"
      ]
     },
     "execution_count": 217,
     "metadata": {},
     "output_type": "execute_result"
    },
    {
     "data": {
      "image/png": "[encoded data removed]",
      "text/plain": [
       "<Figure size 432x288 with 1 Axes>"
      ]
     },
     "metadata": {
      "needs_background": "light"
     },
     "output_type": "display_data"
    }
   ],
   "source": [
    "num_crime_holiday.plot(kind=\"bar\", title=\"crimes per day\")"
   ]
  },
  {
   "cell_type": "markdown",
   "metadata": {},
   "source": [
    "**Number of crimes on non-holidays**"
   ]
  },
  {
   "cell_type": "code",
   "execution_count": 213,
   "metadata": {},
   "outputs": [],
   "source": [
    "num_crime_nonholiday = df.groupby([\"Month\"]).sum().Num - num_crime_holiday"
   ]
  },
  {
   "cell_type": "code",
   "execution_count": 214,
   "metadata": {},
   "outputs": [],
   "source": [
    "num_nonholidays = [29, 27, 30, 30, 31, 30, 30, 31, 29, 30, 28, 30]"
   ]
  },
  {
   "cell_type": "code",
   "execution_count": 215,
   "metadata": {},
   "outputs": [],
   "source": [
    "for i in range(1,13):\n",
    "    num_crime_nonholiday[i] = num_crime_nonholiday[i]/num_nonholidays[i-1]"
   ]
  },
  {
   "cell_type": "code",
   "execution_count": 218,
   "metadata": {},
   "outputs": [
    {
     "data": {
      "text/plain": [
       "<matplotlib.axes._subplots.AxesSubplot at 0x2df718b70>"
      ]
     },
     "execution_count": 218,
     "metadata": {},
     "output_type": "execute_result"
    },
    {
     "data": {
      "image/png": "[encoded data removed]",
      "text/plain": [
       "<Figure size 432x288 with 1 Axes>"
      ]
     },
     "metadata": {
      "needs_background": "light"
     },
     "output_type": "display_data"
    }
   ],
   "source": [
    "num_crime_nonholiday.plot(kind=\"bar\", title=\"crimes per day\")"
   ]
  },
  {
   "cell_type": "markdown",
   "metadata": {},
   "source": [
    "**Delete month 4, 5, 6, 8**"
   ]
  },
  {
   "cell_type": "code",
   "execution_count": 224,
   "metadata": {},
   "outputs": [],
   "source": [
    "new_num_crime_holiday = num_crime_holiday.drop(labels=[4,5,6,8])"
   ]
  },
  {
   "cell_type": "code",
   "execution_count": 225,
   "metadata": {},
   "outputs": [],
   "source": [
    "new_num_crime_nonholiday = num_crime_nonholiday.drop(labels=[4,5,6,8])"
   ]
  },
  {
   "cell_type": "code",
   "execution_count": 284,
   "metadata": {},
   "outputs": [
    {
     "data": {
      "text/plain": [
       "<matplotlib.axes._subplots.AxesSubplot at 0x2dff752b0>"
      ]
     },
     "execution_count": 284,
     "metadata": {},
     "output_type": "execute_result"
    },
    {
     "data": {
      "image/png": "[encoded data removed]",
      "text/plain": [
       "<Figure size 432x288 with 1 Axes>"
      ]
     },
     "metadata": {
      "needs_background": "light"
     },
     "output_type": "display_data"
    }
   ],
   "source": [
    "new_num_crime_holiday.plot(kind=\"bar\", title=\"crimes per holiday\")\n",
    "new_num_crime_holiday.plot(kind=\"kde\")"
   ]
  },
  {
   "cell_type": "code",
   "execution_count": 227,
   "metadata": {},
   "outputs": [
    {
     "data": {
      "text/plain": [
       "<matplotlib.axes._subplots.AxesSubplot at 0x3408bcf60>"
      ]
     },
     "execution_count": 227,
     "metadata": {},
     "output_type": "execute_result"
    },
    {
     "data": {
      "image/png": "[encoded data removed]",
      "text/plain": [
       "<Figure size 432x288 with 1 Axes>"
      ]
     },
     "metadata": {
      "needs_background": "light"
     },
     "output_type": "display_data"
    }
   ],
   "source": [
    "new_num_crime_nonholiday.plot(kind=\"bar\", title=\"crimes per nonholiday\")"
   ]
  },
  {
   "cell_type": "markdown",
   "metadata": {},
   "source": [
    "**Hypothesis testing**"
   ]
  },
  {
   "cell_type": "code",
   "execution_count": 263,
   "metadata": {},
   "outputs": [
    {
     "data": {
      "text/plain": [
       "WilcoxonResult(statistic=10.0, pvalue=0.2626182904425206)"
      ]
     },
     "execution_count": 263,
     "metadata": {},
     "output_type": "execute_result"
    }
   ],
   "source": [
    "stats.wilcoxon(list(new_num_crime_holiday), list(new_num_crime_nonholiday))"
   ]
  },
  {
   "cell_type": "markdown",
   "metadata": {},
   "source": [
    "Since the sample size too small, I tried another way"
   ]
  },
  {
   "cell_type": "markdown",
   "metadata": {},
   "source": [
    "**The Monte Carlo Wilcoxon signed rank test**"
   ]
  },
  {
   "cell_type": "markdown",
   "metadata": {},
   "source": [
    "Null Hypothesis: the difference between average number of crimes per day on holidays and non-holidays is 0\n",
    "\n",
    "Alternative Hypothesis: the difference between average number of crimes per day on holidays and non-holidays is not 0"
   ]
  },
  {
   "cell_type": "code",
   "execution_count": 274,
   "metadata": {},
   "outputs": [],
   "source": [
    "diff = new_num_crime_holiday - new_num_crime_nonholiday\n",
    "w_rand = []\n",
    "for b in range(10000):\n",
    "    sign = np.random.choice([-1,1], 8)\n",
    "    srank = stats.rankdata(abs(diff))*sign\n",
    "    w_rand.append(srank[srank>0].sum())\n",
    "prob_larger = np.mean(10 <= np.array(w_rand))\n",
    "prob_smaller = np.mean(10 >= np.array(w_rand))\n",
    "p_value = 2*min([prob_larger, prob_smaller])"
   ]
  },
  {
   "cell_type": "code",
   "execution_count": 275,
   "metadata": {},
   "outputs": [
    {
     "data": {
      "text/plain": [
       "0.3092"
      ]
     },
     "execution_count": 275,
     "metadata": {},
     "output_type": "execute_result"
    }
   ],
   "source": [
    "p_value"
   ]
  },
  {
   "cell_type": "markdown",
   "metadata": {},
   "source": [
    "since p value is larger than 0.05, we fail to reject the null hypothesis."
   ]
  },
  {
   "cell_type": "markdown",
   "metadata": {},
   "source": [
    "# 48-Month Data "
   ]
  },
  {
   "cell_type": "markdown",
   "metadata": {},
   "source": [
    "**Crime on holidays**"
   ]
  },
  {
   "cell_type": "code",
   "execution_count": 360,
   "metadata": {},
   "outputs": [],
   "source": [
    "num_crime_holiday_2 = df.groupby([\"Year\", \"Month\"]).sum().is_holiday.reset_index()"
   ]
  },
  {
   "cell_type": "code",
   "execution_count": 361,
   "metadata": {},
   "outputs": [],
   "source": [
    "num_crime_holiday_2[\"time\"] = num_crime_holiday_2[\"Year\"].apply(str) +\"/\" + num_crime_holiday_2[\"Month\"].apply(str)"
   ]
  },
  {
   "cell_type": "code",
   "execution_count": 370,
   "metadata": {},
   "outputs": [],
   "source": [
    "mean_num_crime_holiday = []\n",
    "for i in range(num_crime_holiday_2.shape[0]):\n",
    "    if num_holidays[num_crime_holiday_2[\"Month\"][i]-1] != 0:\n",
    "        a = num_crime_holiday_2[\"is_holiday\"][i]\n",
    "        b = num_holidays[num_crime_holiday_2[\"Month\"][i]-1]\n",
    "        mean_num_crime_holiday.append(a/b)\n",
    "    else:\n",
    "        mean_num_crime_holiday.append(0)"
   ]
  },
  {
   "cell_type": "code",
   "execution_count": 374,
   "metadata": {},
   "outputs": [],
   "source": [
    "num_crime_holiday_2[\"Average\"] = mean_num_crime_holiday\n",
    "num_crime_holiday_2 = num_crime_holiday_2[num_crime_holiday_2[\"is_holiday\"] != 0]"
   ]
  },
  {
   "cell_type": "code",
   "execution_count": 379,
   "metadata": {},
   "outputs": [
    {
     "data": {
      "image/png": "[encoded data removed]",
      "text/plain": [
       "<Figure size 432x288 with 1 Axes>"
      ]
     },
     "metadata": {
      "needs_background": "light"
     },
     "output_type": "display_data"
    }
   ],
   "source": [
    "plt.bar(num_crime_holiday_2[\"time\"], num_crime_holiday_2[\"Average\"])\n",
    "plt.title(\"mean number of crime per day on holidays\")\n",
    "locs, labels = plt.xticks(rotation=90)"
   ]
  },
  {
   "cell_type": "markdown",
   "metadata": {},
   "source": [
    "**Crimes on non-holidays**"
   ]
  },
  {
   "cell_type": "code",
   "execution_count": 394,
   "metadata": {},
   "outputs": [],
   "source": [
    "num_crime_nonholiday_2 = df.groupby([\"Year\", \"Month\"]).sum().Num - df.groupby([\"Year\", \"Month\"]).sum().is_holiday\n",
    "num_crime_nonholiday_2 = num_crime_nonholiday_2.reset_index()\n",
    "num_crime_nonholiday_2.columns = [\"Year\", \"Month\", \"Num\"]\n",
    "num_crime_nonholiday_2[\"time\"] = num_crime_nonholiday_2[\"Year\"].apply(str) +\"/\" + num_crime_nonholiday_2[\"Month\"].apply(str)\n",
    "mean_num_crime_nonholiday = []\n",
    "for i in range(num_crime_nonholiday_2.shape[0]):\n",
    "    a = num_crime_nonholiday_2[\"Num\"][i]\n",
    "    b = num_nonholidays[num_crime_nonholiday_2[\"Month\"][i]-1]\n",
    "    mean_num_crime_nonholiday.append(a/b)\n",
    "num_crime_nonholiday_2[\"Average\"] = mean_num_crime_nonholiday"
   ]
  },
  {
   "cell_type": "code",
   "execution_count": 396,
   "metadata": {},
   "outputs": [],
   "source": [
    "num_crime_nonholiday_2 = num_crime_nonholiday_2[~num_crime_nonholiday_2[\"Month\"].isin([4,5,6,8])]"
   ]
  },
  {
   "cell_type": "code",
   "execution_count": 398,
   "metadata": {},
   "outputs": [
    {
     "data": {
      "image/png": "[encoded data removed]",
      "text/plain": [
       "<Figure size 432x288 with 1 Axes>"
      ]
     },
     "metadata": {
      "needs_background": "light"
     },
     "output_type": "display_data"
    }
   ],
   "source": [
    "plt.bar(num_crime_nonholiday_2[\"time\"], num_crime_nonholiday_2[\"Average\"])\n",
    "plt.title(\"mean number of crime per day on non-holidays\")\n",
    "locs, labels = plt.xticks(rotation=90)"
   ]
  },
  {
   "cell_type": "code",
   "execution_count": 399,
   "metadata": {},
   "outputs": [
    {
     "data": {
      "text/plain": [
       "WilcoxonResult(statistic=177.0, pvalue=0.10377793246230706)"
      ]
     },
     "execution_count": 399,
     "metadata": {},
     "output_type": "execute_result"
    }
   ],
   "source": [
    "stats.wilcoxon(list(num_crime_holiday_2[\"Average\"]), list(num_crime_nonholiday_2[\"Average\"]))"
   ]
  },
  {
   "cell_type": "markdown",
   "metadata": {},
   "source": [
    "Fail to reject Null hypothesis"
   ]
  },
  {
   "cell_type": "code",
   "execution_count": null,
   "metadata": {},
   "outputs": [],
   "source": []
  }
 ],
 "metadata": {
  "kernelspec": {
   "display_name": "Python 3",
   "language": "python",
   "name": "python3"
  },
  "language_info": {
   "codemirror_mode": {
    "name": "ipython",
    "version": 3
   },
   "file_extension": ".py",
   "mimetype": "text/x-python",
   "name": "python",
   "nbconvert_exporter": "python",
   "pygments_lexer": "ipython3",
   "version": "3.6.8"
  }
 },
 "nbformat": 4,
 "nbformat_minor": 2
}
